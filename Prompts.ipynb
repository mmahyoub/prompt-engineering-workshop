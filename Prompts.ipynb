{
  "nbformat": 4,
  "nbformat_minor": 0,
  "metadata": {
    "colab": {
      "provenance": [],
      "gpuType": "T4",
      "authorship_tag": "ABX9TyOQE4g3wm9kt7jLD9NUCwkv",
      "include_colab_link": true
    },
    "kernelspec": {
      "name": "python3",
      "display_name": "Python 3"
    },
    "language_info": {
      "name": "python"
    },
    "accelerator": "GPU"
  },
  "cells": [
    {
      "cell_type": "markdown",
      "metadata": {
        "id": "view-in-github",
        "colab_type": "text"
      },
      "source": [
        "<a href=\"https://colab.research.google.com/github/mmahyoub/prompt-engineering-workshop/blob/main/Prompts.ipynb\" target=\"_parent\"><img src=\"https://colab.research.google.com/assets/colab-badge.svg\" alt=\"Open In Colab\"/></a>"
      ]
    },
    {
      "cell_type": "markdown",
      "source": [
        "### Prompts"
      ],
      "metadata": {
        "id": "rTyHnyrLYNvS"
      }
    },
    {
      "cell_type": "markdown",
      "source": [
        ">LLM prompts are instructions or inputs given to large language models (LLMs) to guide their responses and generate desired outputs."
      ],
      "metadata": {
        "id": "gb_Sj47MYQYz"
      }
    },
    {
      "cell_type": "markdown",
      "source": [
        "**Key Characteristics:**\n",
        "* *Natural Language Input:* Prompts are typically written in natural language, allowing users to interact with LLMs without coding knowledge.\n",
        "\n",
        "* *Instruction to the Model:* A prompt acts as an instruction, telling the LLM what task to perform or what information to provide.\n",
        "\n",
        "* *Context Provider:* Prompts can include relevant background information to help the model understand the task better and respond with relevant data."
      ],
      "metadata": {
        "id": "i87Z9CXqYtWG"
      }
    },
    {
      "cell_type": "markdown",
      "source": [
        ">Let us see how instruct (chat models) respond to prompts."
      ],
      "metadata": {
        "id": "cEFdh-9naOW6"
      }
    },
    {
      "cell_type": "markdown",
      "source": [
        ">**OpenAI GPT4-o**"
      ],
      "metadata": {
        "id": "OqQX6Z9eaWLw"
      }
    },
    {
      "cell_type": "code",
      "source": [
        "from IPython.display import display, Markdown"
      ],
      "metadata": {
        "id": "M5w8wqAqevCM"
      },
      "execution_count": 1,
      "outputs": []
    },
    {
      "cell_type": "code",
      "source": [
        "# Install openai python SDK\n",
        "!pip install openai -q"
      ],
      "metadata": {
        "id": "Qh_chgBcaofa"
      },
      "execution_count": 2,
      "outputs": []
    },
    {
      "cell_type": "code",
      "source": [
        "from openai import OpenAI\n",
        "from getpass import getpass\n",
        "api_key = getpass(\"Enter your API key: \")\n",
        "client = OpenAI(api_key=api_key)"
      ],
      "metadata": {
        "colab": {
          "base_uri": "https://localhost:8080/"
        },
        "id": "UN3CVF_wYrut",
        "outputId": "d9001ebc-bfe0-49f0-d20e-4f65d3ce789e"
      },
      "execution_count": 3,
      "outputs": [
        {
          "name": "stdout",
          "output_type": "stream",
          "text": [
            "Enter your API key: ··········\n"
          ]
        }
      ]
    },
    {
      "cell_type": "code",
      "source": [
        "def get_respone(prompt):\n",
        "  response = client.chat.completions.create(\n",
        "  model=\"gpt-4o\",\n",
        "  messages=[\n",
        "    {\"role\": \"user\", \"content\": prompt}\n",
        "  ]\n",
        "  )\n",
        "\n",
        "  return response.choices[0].message.content"
      ],
      "metadata": {
        "id": "-xlVO57pdV9U"
      },
      "execution_count": 4,
      "outputs": []
    },
    {
      "cell_type": "code",
      "source": [
        "def display_response(response):\n",
        "  display(Markdown(response))"
      ],
      "metadata": {
        "id": "cFZD8WBUe2_Z"
      },
      "execution_count": 5,
      "outputs": []
    },
    {
      "cell_type": "markdown",
      "source": [
        ">Now, let us try a few prompts. You can also use the user interface of [ChatGPT](https://chatgpt.com/). It should be noted that the free version uses GPT-4o Mini."
      ],
      "metadata": {
        "id": "SEnTwk1Xdjvv"
      }
    },
    {
      "cell_type": "code",
      "source": [
        "# Simple Fact Retreival\n",
        "response = get_respone(\"What is the capital of Yemen?\")\n",
        "display_response(response)"
      ],
      "metadata": {
        "colab": {
          "base_uri": "https://localhost:8080/",
          "height": 81
        },
        "id": "jxZ0AnS0dX7i",
        "outputId": "e6bc4f32-0e35-4311-844d-9537bfe85527"
      },
      "execution_count": 6,
      "outputs": [
        {
          "output_type": "display_data",
          "data": {
            "text/plain": [
              "<IPython.core.display.Markdown object>"
            ],
            "text/markdown": "The capital of Yemen is Sana'a. It is one of the oldest continuously inhabited cities in the world and serves as the cultural and political hub of the country. However, due to ongoing conflict, the government has temporarily moved some of its functions to Aden, another major city in Yemen."
          },
          "metadata": {}
        }
      ]
    },
    {
      "cell_type": "code",
      "source": [
        "# Creative Writing\n",
        "response = get_respone(\"Write a short story about a magical forest.\")\n",
        "display_response(response)"
      ],
      "metadata": {
        "colab": {
          "base_uri": "https://localhost:8080/",
          "height": 720
        },
        "id": "M_Fi5WBMdgS6",
        "outputId": "94d42767-0dc2-4b3c-ba6d-2d408dccf785"
      },
      "execution_count": 7,
      "outputs": [
        {
          "output_type": "display_data",
          "data": {
            "text/plain": [
              "<IPython.core.display.Markdown object>"
            ],
            "text/markdown": "Once upon a time, nestled beyond the veil of everyday life, lay Devenwood, a magical forest where the air shimmered with enchantment and the very ground sang with ancient whispers. The moment the first autumn leaf crumbled to dust each year, the forest would awaken, revealing its wonders only to those who held pure hearts and eyes unclouded by disbelief.\n\nEllara, a young girl with emerald eyes and hair the color of midnight, had always felt a magnetic pull towards Devenwood. The villagers spoke in hushed tones of its power, warning children not to venture too far. But Ellara was different; she believed in the tales of wonder rather than the whispers of fear. One crisp autumn afternoon, curiosity led her beyond the borders of her small village and into Devenwood.\n\nAs Ellara stepped across the invisible threshold, she felt an exhilarating rush of warmth envelop her, almost as if the forest itself were greeting her with a gentle embrace. The trees, tall and ancient, bowed slightly as she passed, their leaves rustling in greeting. Sunlight filtered through the canopy in ethereal patterns, painting the forest floor with golden pools of light.\n\nShe walked deeper into the forest and encountered a myriad of magical beings. There were shimmering sprites darting between branches, their laughter like tinkling bells. A talking fox named Fenn, with eyes as wise as the moon, greeted her with a friendly nod. He offered to be her guide, sensing the purity of her heart and her insatiable curiosity.\n\n\"Where would you like to go, young one?\" Fenn asked, his voice calm and melodic.\n\n\"I want to see the heart of Devenwood,\" Ellara replied, her eyes wide with excitement.\n\nFenn led Ellara through a labyrinth of enchanted groves, past bubbling brooks that sang lullabies and flowers that blossomed in every color of the rainbow, though most astonishing of all was a clearing bathed in a tranquil, otherworldly glow. In its center grew a magnificent tree, its roots entwined with clusters of luminescent crystals. This was Lorian, the heart of Devenwood.\n\nLorian's branches reached out like welcoming arms, and as Ellara approached, a voice filled her mind, soft and kind but resonant with ancient wisdom.\n\n\"Welcome, child of the real world,\" Lorian said. \"You have a pure heart, unclouded by fear or doubt. Because of this, you have been chosen as the Keeper of Devenwood's secrets.\"\n\nEllara's heart swelled with pride and joy. She kneeled at the base of Lorian, feeling a deep connection with the tree and the forest it governed. As the new Keeper, she was charged with the responsibility of protecting Devenwood's magic, ensuring it would remain a sanctuary for all magical beings and a beacon of hope for those who believed.\n\nYears passed, and Ellara watched over Devenwood with unerring devotion. Under her care, the forest thrived, enchantments deepened, and creatures lived in harmonious symphony. She shared her stories with the villagers' children, encouraging them to believe in magic and the endless possibilities it opened.\n\nAnd so, the legacy of Devenwood endured, its many secrets safeguarded by a young girl's pure heart and unwavering belief in the extraordinary. The forest, a timeless realm of wonders, continued to shimmer just beyond the edge of ordinary life, awaiting those special few who dared to believe."
          },
          "metadata": {}
        }
      ]
    },
    {
      "cell_type": "code",
      "source": [
        "# Math Problem\n",
        "response = get_respone(\"Solve the equation: 2x + 5 = 15\")\n",
        "display_response(response)"
      ],
      "metadata": {
        "colab": {
          "base_uri": "https://localhost:8080/",
          "height": 289
        },
        "id": "SbFy0kwieR6x",
        "outputId": "9328ba7d-dcf6-4641-8ae5-ecff93d1c179"
      },
      "execution_count": 8,
      "outputs": [
        {
          "output_type": "display_data",
          "data": {
            "text/plain": [
              "<IPython.core.display.Markdown object>"
            ],
            "text/markdown": "To solve the equation \\(2x + 5 = 15\\), follow these steps:\n\n1. Subtract 5 from both sides of the equation to isolate the term with \\(x\\):\n\n\\[ 2x + 5 - 5 = 15 - 5 \\]\n\nThis simplifies to:\n\n\\[ 2x = 10 \\]\n\n2. Now, divide both sides by 2 to solve for \\(x\\):\n\n\\[ \\frac{2x}{2} = \\frac{10}{2} \\]\n\nThis simplifies to:\n\n\\[ x = 5 \\]\n\nSo, the solution to the equation \\(2x + 5 = 15\\) is \\(x = 5\\)."
          },
          "metadata": {}
        }
      ]
    },
    {
      "cell_type": "code",
      "source": [
        "# Text Summarization\n",
        "response = get_respone(\"\"\"Summarize the following story in one paragraph:\n",
        "In the heart of an ancient land, where rolling hills met the winding rivers, there existed a forest unlike any other. This forest, whispered about in villages miles around, was known as the Elysian Grove. It was a place where sunlight danced through a kaleidoscope of verdant leaves, and a perpetual twilight shimmered with an ethereal glow, as if the forest itself held the light in its gentle embrace.\n",
        "\n",
        "To the untrained eye, Elysian Grove appeared peaceful, almost ordinary. But those who were perceptive or perhaps blessed with just a touch of otherworldly insight, could sense the soft thrum of magic that wove through the trees like a gentle lullaby. Everything in this forest was somehow more alive. Flowers unfurled new colors with each sunrise, and streams babbled tunes sweeter than any bard’s song.\n",
        "\n",
        "Legend had it that the heart of the Elysian Grove was guarded by an ancient, benevolent spirit known as Liora. Liora was said to be deeply intertwined with the forest itself, her presence felt in the sway of every branch and the whisper of every wind. She had watched over the forest for centuries, ensuring that its magic remained balanced and that the beings dwelling within coexisted in harmony.\n",
        "\n",
        "One crisp autumn day, a young villager named Elara ventured into the forest, driven by the tales of Elysian Grove's enchanted wonders. She had always yearned for something more than the mundane chore rotations of her village life. With each step she took deeper into the forest, she felt a growing sense of belonging and curiosity, as though invisible hands were guiding her path.\n",
        "\n",
        "Elara soon found herself by an ancient oak tree, larger and older than any she had seen. Its leaves glistened in hues of gold and emerald, and at its base was a delicate, glowing pool. As she gazed into the pool, the waters began to ripple, forming an image of her village suffering from a drought. Crops were wilting, and her friends looked worn from the struggle for water. Elara’s heart ached, and an overwhelming sense of duty washed over her.\n",
        "\n",
        "From behind the oak, Liora emerged, exuding an aura of warmth and wisdom. Her appearance was like that of a maiden made entirely of the forest itself, with hair like cascading vines and eyes like sparkling dew drops.\n",
        "\n",
        "\"Welcome, Elara,\" Liora's voice resonated with the harmony of wind chimes. \"The forest has chosen you to bring balance beyond its borders.\"\n",
        "\n",
        "Understanding dawned on Elara. The forest's magic could end the drought, but she needed to be the medium through which it flowed. Liora extended a hand, a gesture of invitation. Elara stepped forward, her heart hammering with a mix of trepidation and resolve. She placed her hand in Liora’s, and a brilliant light enveloped them both.\n",
        "\n",
        "When the light faded, Elara found herself back on the edge of the forest, but she was not alone. In her hands was a crystalline vial filled with shimmering water from the glowing pool. Guided by an instinctive knowledge gifted by Liora, she knew just how to use it.\n",
        "\n",
        "Upon her return to the village, she sprinkled the enchanted water over the fields. Miraculously, life sprang forth almost immediately. Crops grew lush and vibrant, and the villagers cried tears of joy and relief. The drought ended, and a rejuvenated spirit filled the hearts of everyone.\n",
        "\n",
        "Elara’s act did not go unrecognized or unrewarded. Every year, the village would hold a celebration in honor of the Elysian Grove and its guardian spirit, Liora. And Elara, who once sought adventure, found a fulfilling purpose. She became the keeper of the forest’s secrets, ensuring that the delicate balance of magic continued to thrive.\n",
        "\n",
        "The forest remained as enchanting as ever, untouched by time, with its magic enduring in the hearts of those who believed in the unseen wonders of the world. And so, the legend of Elysian Grove lived on, blossoming with each new generation, as the magical forest and its guardian spirit continued to weave their timeless enchantment.\n",
        "\"\"\")\n",
        "display_response(response)"
      ],
      "metadata": {
        "colab": {
          "base_uri": "https://localhost:8080/",
          "height": 185
        },
        "id": "xEatw3ZFec2F",
        "outputId": "fd8bd7e8-3a1d-4135-f123-e80c58dfbb51"
      },
      "execution_count": 9,
      "outputs": [
        {
          "output_type": "display_data",
          "data": {
            "text/plain": [
              "<IPython.core.display.Markdown object>"
            ],
            "text/markdown": "In an ancient, enchanted forest known as Elysian Grove, a benevolent spirit named Liora watched over a magical realm where flowers unfurled new colors daily, and streams sang sweeter than any bard's tune. One autumn day, a young villager named Elara, driven by tales of the grove’s wonders, ventured into the forest, discovering an ancient oak with a glowing pool reflecting her drought-stricken village. Liora appeared, revealing that Elara had been chosen to bring the forest’s magic to her drying village. Accepting the task, Elara received a vial of enchanted water and returned home to rejuvenate the fields, ending the drought. Her heroic act was celebrated annually, and she became the keeper of the forest’s secrets, ensuring the delicate balance of magic endured, and the legend of Elysian Grove blossomed with each new generation."
          },
          "metadata": {}
        }
      ]
    },
    {
      "cell_type": "code",
      "source": [
        "# Code Generation\n",
        "response = get_respone(\"\"\"Write a Python function to calculate the factorial of a number.\n",
        "\"\"\")\n",
        "display_response(response)"
      ],
      "metadata": {
        "colab": {
          "base_uri": "https://localhost:8080/",
          "height": 567
        },
        "id": "hR9G4CCGgHyN",
        "outputId": "f8ac8f59-ef2f-4b0b-853c-b61e97bc7552"
      },
      "execution_count": 10,
      "outputs": [
        {
          "output_type": "display_data",
          "data": {
            "text/plain": [
              "<IPython.core.display.Markdown object>"
            ],
            "text/markdown": "Certainly! The factorial of a number \\( n \\) (denoted as \\( n! \\)) is the product of all positive integers less than or equal to \\( n \\). Here is a Python function to calculate the factorial of a number using both an iterative and a recursive approach.\n\n### Iterative Approach\n```python\ndef factorial_iterative(n):\n    if n < 0:\n        raise ValueError(\"Factorial is not defined for negative numbers.\")\n    result = 1\n    for i in range(1, n + 1):\n        result *= i\n    return result\n\n# Example usage:\n# print(factorial_iterative(5))  # Output: 120\n```\n\n### Recursive Approach\n```python\ndef factorial_recursive(n):\n    if n < 0:\n        raise ValueError(\"Factorial is not defined for negative numbers.\")\n    elif n == 0 or n == 1:\n        return 1\n    else:\n        return n * factorial_recursive(n - 1)\n\n# Example usage:\n# print(factorial_recursive(5))  # Output: 120\n```\n\nChoose the approach that you find more readable or fits your needs. Both perform the same task. The iterative approach might be easier to understand for beginners, while the recursive approach is more elegant and concise but may hit the Python recursion limit for very large values of \\( n \\)."
          },
          "metadata": {}
        }
      ]
    },
    {
      "cell_type": "code",
      "source": [
        "def factorial_iterative(n):\n",
        "    if n < 0:\n",
        "        raise ValueError(\"Factorial is not defined for negative numbers.\")\n",
        "    result = 1\n",
        "    for i in range(1, n + 1):\n",
        "        result *= i\n",
        "    return result\n",
        "\n",
        "factorial_iterative(4)"
      ],
      "metadata": {
        "colab": {
          "base_uri": "https://localhost:8080/"
        },
        "id": "Agk3ubepgYlv",
        "outputId": "8cf48011-123c-47ed-a917-f8d186f05440"
      },
      "execution_count": 14,
      "outputs": [
        {
          "output_type": "execute_result",
          "data": {
            "text/plain": [
              "24"
            ]
          },
          "metadata": {},
          "execution_count": 14
        }
      ]
    },
    {
      "cell_type": "code",
      "source": [
        "# Language Translation\n",
        "response = get_respone(\"\"\"Translate the following English text to Turkish and Arabic:\n",
        "Data science is fun. It feeds the mind of the inquistive?\n",
        "\"\"\")\n",
        "display_response(response)"
      ],
      "metadata": {
        "colab": {
          "base_uri": "https://localhost:8080/",
          "height": 93
        },
        "id": "pUPNSTh4gijF",
        "outputId": "cafc9dc6-d6ba-4c0b-becc-e0ba0a8ee5fd"
      },
      "execution_count": 12,
      "outputs": [
        {
          "output_type": "display_data",
          "data": {
            "text/plain": [
              "<IPython.core.display.Markdown object>"
            ],
            "text/markdown": "Sure! Here's the translation of the given text:\n\nTurkish: Veri bilimi eğlencelidir. Meraklı olanların zihnini besler.\n\nArabic: علم البيانات ممتع. إنه يغذي عقل المستفسرين."
          },
          "metadata": {}
        }
      ]
    },
    {
      "cell_type": "code",
      "source": [
        "# Question Answering\n",
        "response = get_respone(\"Explain the concept of gravity in simple terms.\")\n",
        "display_response(response)"
      ],
      "metadata": {
        "colab": {
          "base_uri": "https://localhost:8080/",
          "height": 162
        },
        "id": "3K7pSIJYg_NN",
        "outputId": "0ccd7271-4440-461f-fbf8-dca3f2544fb6"
      },
      "execution_count": 13,
      "outputs": [
        {
          "output_type": "display_data",
          "data": {
            "text/plain": [
              "<IPython.core.display.Markdown object>"
            ],
            "text/markdown": "Sure! Gravity is a force that pulls objects towards each other. It's the reason things fall to the ground when you drop them. On Earth, gravity is what keeps us and everything else firmly on the ground.\n\nHere's a simple way to think about it: Imagine you have a big ball, like a planet, and a smaller ball like an apple. Gravity pulls the apple toward the planet, and that's why when an apple falls from a tree, it comes down to the ground instead of floating away into space.\n\nIn space, gravity is also what keeps the planets orbiting around the Sun and the Moon orbiting around the Earth. Even though we often can't see it, gravity is always at work, pulling things together!"
          },
          "metadata": {}
        }
      ]
    }
  ]
}