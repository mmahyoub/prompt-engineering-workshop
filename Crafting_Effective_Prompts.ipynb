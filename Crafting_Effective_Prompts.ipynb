{
  "nbformat": 4,
  "nbformat_minor": 0,
  "metadata": {
    "colab": {
      "provenance": [],
      "authorship_tag": "ABX9TyNCcYYM/ybZbcxbX1KWY8VN",
      "include_colab_link": true
    },
    "kernelspec": {
      "name": "python3",
      "display_name": "Python 3"
    },
    "language_info": {
      "name": "python"
    }
  },
  "cells": [
    {
      "cell_type": "markdown",
      "metadata": {
        "id": "view-in-github",
        "colab_type": "text"
      },
      "source": [
        "<a href=\"https://colab.research.google.com/github/mmahyoub/prompt-engineering-workshop/blob/main/Crafting_Effective_Prompts.ipynb\" target=\"_parent\"><img src=\"https://colab.research.google.com/assets/colab-badge.svg\" alt=\"Open In Colab\"/></a>"
      ]
    },
    {
      "cell_type": "markdown",
      "source": [
        "### Crafting Effective Prompts"
      ],
      "metadata": {
        "id": "CtwzPNdbrlKj"
      }
    },
    {
      "cell_type": "markdown",
      "source": [
        ">Crafting effective prompts for large language models (LLMs) like GPT can significantly improve the quality of responses. Here, we'll cover key aspects of prompt design and demonstrate poor versus recommended prompts for each."
      ],
      "metadata": {
        "id": "8OkB2Af-saCk"
      }
    },
    {
      "cell_type": "markdown",
      "source": [
        ">OpenAI GPT-4o"
      ],
      "metadata": {
        "id": "kRUAUYDbsttf"
      }
    },
    {
      "cell_type": "code",
      "source": [
        "# Install openai python SDK\n",
        "!pip install openai -q"
      ],
      "metadata": {
        "colab": {
          "base_uri": "https://localhost:8080/"
        },
        "id": "7TFxop29szIL",
        "outputId": "640da369-890e-497d-9a2a-d4b37677ffb2"
      },
      "execution_count": 1,
      "outputs": [
        {
          "output_type": "stream",
          "name": "stdout",
          "text": [
            "\u001b[?25l   \u001b[90m━━━━━━━━━━━━━━━━━━━━━━━━━━━━━━━━━━━━━━━━\u001b[0m \u001b[32m0.0/375.6 kB\u001b[0m \u001b[31m?\u001b[0m eta \u001b[36m-:--:--\u001b[0m\r\u001b[2K   \u001b[91m━━━━━━━━━━━━━━━━━━━━━━━━━━━━━━━━━━━━━━━\u001b[0m\u001b[90m╺\u001b[0m \u001b[32m368.6/375.6 kB\u001b[0m \u001b[31m39.5 MB/s\u001b[0m eta \u001b[36m0:00:01\u001b[0m\r\u001b[2K   \u001b[90m━━━━━━━━━━━━━━━━━━━━━━━━━━━━━━━━━━━━━━━━\u001b[0m \u001b[32m375.6/375.6 kB\u001b[0m \u001b[31m9.1 MB/s\u001b[0m eta \u001b[36m0:00:00\u001b[0m\n",
            "\u001b[?25h\u001b[?25l   \u001b[90m━━━━━━━━━━━━━━━━━━━━━━━━━━━━━━━━━━━━━━━━\u001b[0m \u001b[32m0.0/76.4 kB\u001b[0m \u001b[31m?\u001b[0m eta \u001b[36m-:--:--\u001b[0m\r\u001b[2K   \u001b[90m━━━━━━━━━━━━━━━━━━━━━━━━━━━━━━━━━━━━━━━━\u001b[0m \u001b[32m76.4/76.4 kB\u001b[0m \u001b[31m4.3 MB/s\u001b[0m eta \u001b[36m0:00:00\u001b[0m\n",
            "\u001b[2K   \u001b[90m━━━━━━━━━━━━━━━━━━━━━━━━━━━━━━━━━━━━━━━━\u001b[0m \u001b[32m77.9/77.9 kB\u001b[0m \u001b[31m3.6 MB/s\u001b[0m eta \u001b[36m0:00:00\u001b[0m\n",
            "\u001b[2K   \u001b[90m━━━━━━━━━━━━━━━━━━━━━━━━━━━━━━━━━━━━━━━━\u001b[0m \u001b[32m318.9/318.9 kB\u001b[0m \u001b[31m10.6 MB/s\u001b[0m eta \u001b[36m0:00:00\u001b[0m\n",
            "\u001b[2K   \u001b[90m━━━━━━━━━━━━━━━━━━━━━━━━━━━━━━━━━━━━━━━━\u001b[0m \u001b[32m58.3/58.3 kB\u001b[0m \u001b[31m2.8 MB/s\u001b[0m eta \u001b[36m0:00:00\u001b[0m\n",
            "\u001b[?25h"
          ]
        }
      ]
    },
    {
      "cell_type": "code",
      "execution_count": 2,
      "metadata": {
        "colab": {
          "base_uri": "https://localhost:8080/"
        },
        "id": "1vLA852VqwV9",
        "outputId": "3363e0cc-2b70-4bea-995d-7ea9f462c894"
      },
      "outputs": [
        {
          "name": "stdout",
          "output_type": "stream",
          "text": [
            "Enter your API key: ··········\n"
          ]
        }
      ],
      "source": [
        "from IPython.display import display, Markdown\n",
        "from openai import OpenAI\n",
        "from getpass import getpass\n",
        "api_key = getpass(\"Enter your API key: \")\n",
        "client = OpenAI(api_key=api_key)\n",
        ""
      ]
    },
    {
      "cell_type": "code",
      "source": [
        "def get_response(prompt):\n",
        "  response = client.chat.completions.create(\n",
        "  model=\"gpt-4o\",\n",
        "  messages=[\n",
        "    {\"role\": \"user\", \"content\": prompt}\n",
        "  ]\n",
        "  )\n",
        "\n",
        "  return response.choices[0].message.content"
      ],
      "metadata": {
        "id": "b7QdAcxFs3oy"
      },
      "execution_count": 6,
      "outputs": []
    },
    {
      "cell_type": "code",
      "source": [
        "def display_response(response):\n",
        "  display(Markdown(response))"
      ],
      "metadata": {
        "id": "khh3JAsKs_uj"
      },
      "execution_count": 7,
      "outputs": []
    },
    {
      "cell_type": "markdown",
      "source": [
        "**1. Clarity and Specificity**"
      ],
      "metadata": {
        "id": "4el9FBEStP80"
      }
    },
    {
      "cell_type": "code",
      "source": [
        "# Poor Prompt:\n",
        "response = get_response(\"Tell me about AI.\")\n",
        "display_response(response)"
      ],
      "metadata": {
        "colab": {
          "base_uri": "https://localhost:8080/",
          "height": 1000
        },
        "id": "3iEFc00StXIu",
        "outputId": "36916d9a-af3c-48c6-9d25-9e2761667d7d"
      },
      "execution_count": 8,
      "outputs": [
        {
          "output_type": "display_data",
          "data": {
            "text/plain": [
              "<IPython.core.display.Markdown object>"
            ],
            "text/markdown": "Artificial Intelligence (AI) refers to the creation of computer systems capable of performing tasks that typically require human intelligence. These tasks include understanding natural language, recognizing patterns, solving problems, and making autonomous decisions. AI can be categorized broadly into two types: Narrow AI and General AI.\n\n### Narrow AI\nNarrow AI, also known as weak AI, is designed to perform a specific task or a narrow range of tasks. Examples include:\n\n- **Speech Recognition:** Systems like Apple's Siri or Amazon's Alexa that can understand and respond to human speech.\n- **Image Recognition:** Software that can identify and categorize images, such as Google's DeepMind or Facebook's facial recognition algorithms.\n- **Recommendation Systems:** Algorithms that suggest products, movies, or content based on user behavior, such as those used by Netflix or Amazon.\n\nNarrow AI is the form of AI we encounter most frequently in our daily lives. It is highly specialized and operates within a predefined range of parameters.\n\n### General AI\nGeneral AI, also known as strong AI or artificial general intelligence (AGI), aims to replicate human cognitive abilities across a wide range of tasks. This would mean an AI system potentially operating with human-like reasoning, problem-solving, and learning capabilities. General AI remains largely theoretical and has not yet been realized.\n\n### Key Techniques in AI\n\n1. **Machine Learning (ML):** A subset of AI that involves training algorithms on large datasets to make predictions or decisions. It includes techniques such as supervised learning, unsupervised learning, and reinforcement learning.\n   \n2. **Deep Learning:** A branch of machine learning that focuses on neural networks with many layers. These networks can learn complex patterns in large datasets and are used for advanced applications like image and speech recognition.\n\n3. **Natural Language Processing (NLP):** This field of AI focuses on enabling machines to understand, interpret, and respond to human language. Examples include chatbots and translation services.\n\n4. **Computer Vision:** This technique allows computers to understand and interpret visual information from the world. Applications include facial recognition, self-driving cars, and medical image analysis.\n\n### Ethical Considerations\nAs AI technology advances, it raises several ethical and social concerns:\n- **Bias and Fairness:** AI systems can inadvertently perpetuate or exacerbate existing biases if they are trained on biased datasets.\n- **Privacy:** AI systems often require massive amounts of data, raising questions about how this data is collected, stored, and used.\n- **Job Displacement:** Automation and AI can potentially displace human workers in various industries, leading to economic and social impacts.\n- **Autonomy and Control:** AI systems could make decisions without human intervention, raising concerns about accountability and control.\n\n### AI in Various Industries\n\n- **Healthcare:** AI is used for diagnosing diseases, personalizing treatment plans, and enabling robotic surgeries.\n- **Finance:** Algorithms are used for fraud detection, risk management, and trading.\n- **Retail:** AI helps in inventory management, customer service, and personalized marketing.\n- **Manufacturing:** AI-driven robots and predictive maintenance systems are enhancing productivity and efficiency.\n\n### Conclusion\nAI is a transformative technology with the potential to revolutionize virtually every industry. While the advancements in AI bring numerous benefits, they also pose significant ethical and societal challenges that must be carefully managed. As research and development continue, the focus on creating responsible and equitable AI systems becomes increasingly critical."
          },
          "metadata": {}
        }
      ]
    },
    {
      "cell_type": "code",
      "source": [
        "# Recommended Prompt\n",
        "response = get_response(\"Provide an overview of artificial intelligence (AI), including its key components such as machine learning, natural language processing, and computer vision.\")\n",
        "display_response(response)"
      ],
      "metadata": {
        "colab": {
          "base_uri": "https://localhost:8080/",
          "height": 1000
        },
        "id": "_NRiHcdQtwyO",
        "outputId": "b06cbb32-3702-459d-ad04-a2d57c707290"
      },
      "execution_count": 9,
      "outputs": [
        {
          "output_type": "display_data",
          "data": {
            "text/plain": [
              "<IPython.core.display.Markdown object>"
            ],
            "text/markdown": "Artificial Intelligence (AI) is a branch of computer science that aims to create systems capable of performing tasks that typically require human intelligence. These tasks range from recognizing speech and images to making decisions and understanding natural language. AI encompasses a variety of subfields, each focusing on different aspects of creating intelligent behavior. Here, we'll overview the key components of AI, including machine learning, natural language processing, and computer vision.\n\n### Key Components of AI\n\n#### 1. Machine Learning (ML)\nMachine Learning is a subset of AI that focuses on the development of algorithms that allow computers to learn from and make predictions or decisions based on data. Rather than being explicitly programmed to perform a task, machine learning models gain insights from data and improve their performance over time. Key types of machine learning include:\n\n- **Supervised Learning**: Involves training a model on a labeled dataset, meaning that each training example is paired with an output label. Common algorithms include linear regression, decision trees, and neural networks.\n\n- **Unsupervised Learning**: Involves using a model to identify patterns in data without predefined labels. Algorithms used in this approach include clustering methods like k-means and dimensionality reduction techniques like Principal Component Analysis (PCA).\n\n- **Reinforcement Learning**: Involves training a model to make a sequence of decisions by rewarding it for good decisions and penalizing it for bad ones. This approach is often used in game playing and robotics.\n\n#### 2. Natural Language Processing (NLP)\nNatural Language Processing focuses on the interaction between computers and humans through natural language. The aim is to enable computers to understand, interpret, and generate human language in a way that is both meaningful and useful. Key tasks in NLP include:\n\n- **Text Analysis**: Extracting meaningful information from text, such as sentiment analysis, named entity recognition, and topic modeling.\n\n- **Machine Translation**: Translating text or speech from one language to another using models like Google Translate.\n\n- **Speech Recognition**: Converting spoken language into text. This technology is behind virtual assistants like Siri, Google Assistant, and Alexa.\n\n- **Text Generation**: Producing meaningful text based on given input, examples include GPT-3 by OpenAI which generates human-like text.\n\n#### 3. Computer Vision\nComputer Vision aims to enable machines to interpret and make decisions based on visual data from the world. It encompasses various tasks and technologies to achieve this:\n\n- **Image Recognition**: Identifying objects or features in an image. Convolutional Neural Networks (CNNs) are commonly used for this purpose.\n\n- **Object Detection**: Recognizing and locating objects within an image or a sequence of images. Techniques include YOLO (You Only Look Once) and R-CNN (Region-based Convolutional Neural Networks).\n\n- **Image Segmentation**: Partitioning an image into multiple segments to simplify analysis. This is often used in medical imaging to identify different tissues or anomalies.\n\n- **Facial Recognition**: Identifying or verifying an individual's identity based on facial features. This technology is widely used in security and authentication systems.\n\n### Additional Concepts\n\n- **Deep Learning**: A subfield of machine learning that uses neural networks with many layers (deep networks) to model complex patterns in large datasets. Deep learning is particularly effective in tasks like image and speech recognition.\n\n- **AI Ethics and Explainability**: As AI systems become more complex and pervasive, there are growing concerns about their ethical implications and the need for transparency in AI decision-making processes.\n\n### Conclusion\nArtificial Intelligence is a vast and rapidly evolving field that holds the potential to revolutionize various aspects of our daily lives and different industries. By leveraging machine learning, natural language processing, and computer vision, AI systems can perform increasingly complex tasks, leading to advancements in everything from healthcare to autonomous vehicles. As the field progresses, ethical considerations and the need for transparent, explainable AI will become ever more critical."
          },
          "metadata": {}
        }
      ]
    },
    {
      "cell_type": "markdown",
      "source": [
        "**2. Context**"
      ],
      "metadata": {
        "id": "TIeY1hOluJH9"
      }
    },
    {
      "cell_type": "code",
      "source": [
        "# Poor Prompt\n",
        "response = get_response(\"What is regression?\")\n",
        "display_response(response)"
      ],
      "metadata": {
        "colab": {
          "base_uri": "https://localhost:8080/",
          "height": 948
        },
        "id": "Am88f8CbuPOz",
        "outputId": "de81d1cd-d5d8-47ed-a8e7-076b4a0c95f4"
      },
      "execution_count": 10,
      "outputs": [
        {
          "output_type": "display_data",
          "data": {
            "text/plain": [
              "<IPython.core.display.Markdown object>"
            ],
            "text/markdown": "Regression is a statistical method used to understand and quantify the relationship between variables. Typically, regression analysis is used to determine how one dependent variable is influenced by one or more independent variables. The most commonly used type of regression is linear regression, where the relationship between the variables is modeled as a linear equation.\n\n### Key Concepts\n\n1. **Dependent Variable:** This is the outcome you are trying to measure or predict, often denoted as \\(Y\\).\n2. **Independent Variable(s):** These are the predictors or features that you believe have an impact on the dependent variable, often denoted as \\(X\\) (or \\(X_1, X_2, \\dots, X_n\\) for multiple variables).\n3. **Linear Regression Model:** In its simplest form, the linear regression equation can be written as:\n   \\[\n   Y = \\beta_0 + \\beta_1 X + \\epsilon\n   \\]\n   where \\( \\beta_0 \\) is the y-intercept, \\( \\beta_1 \\) is the slope of the line, and \\( \\epsilon \\) is the error term.\n\n### Types of Regression\n1. **Simple Linear Regression:** Uses a single independent variable to predict the dependent variable.\n2. **Multiple Linear Regression:** Uses multiple independent variables to predict the dependent variable.\n3. **Non-linear Regression:** Models a relationship between variables where the relationship is not a straight line.\n4. **Logistic Regression:** Used when the dependent variable is categorical, usually binary (e.g., yes/no, success/failure).\n\n### Applications of Regression\n- **Predictive Modeling:** Forecasting future data points based on historical data.\n- **Determining Trends:** Understanding the relationship between variables, such as how a change in price might affect sales.\n- **Risk Assessment:** Evaluating the risk factors for certain outcomes, commonly used in finance and insurance.\n\n### Steps in Regression Analysis\n1. **Data Collection:** Gather relevant data for the dependent and independent variables.\n2. **Data Cleaning:** Handle missing values, outliers, and ensure data quality.\n3. **Model Building:** Choose the type of regression model and fit it to the data.\n4. **Evaluation:** Check the model’s performance using metrics like R-squared, RMSE (Root Mean Squared Error), etc.\n5. **Interpretation:** Understand the coefficients and statistical significance of the variables.\n6. **Validation and Testing:** Confirm the model's reliability using different subsets of data or cross-validation techniques.\n\n### Assumptions in Linear Regression\n1. **Linearity:** The relationship between independent and dependent variables is linear.\n2. **Independence:** Observations are independent of each other.\n3. **Homoscedasticity:** Constant variance of the errors.\n4. **Normality:** The errors are normally distributed.\n5. **No multicollinearity:** Independent variables are not highly correlated with each other.\n\nRegression is a powerful tool used in various fields such as economics, finance, healthcare, and social sciences to make informed decisions based on data."
          },
          "metadata": {}
        }
      ]
    },
    {
      "cell_type": "code",
      "source": [
        "# Recommended Prompt\n",
        "response = get_response(\"In statistics, what is linear regression, and how is it used to predict outcomes?\")\n",
        "display_response(response)"
      ],
      "metadata": {
        "colab": {
          "base_uri": "https://localhost:8080/",
          "height": 1000
        },
        "id": "hIfgVtevuo2A",
        "outputId": "a24e0bad-9fcb-445e-af3a-3d1df8e63b05"
      },
      "execution_count": 11,
      "outputs": [
        {
          "output_type": "display_data",
          "data": {
            "text/plain": [
              "<IPython.core.display.Markdown object>"
            ],
            "text/markdown": "Linear regression is a fundamental statistical method used to model the relationship between a dependent variable and one or more independent variables. When the relationship involves just one independent variable, it is referred to as simple linear regression, while multiple independent variables lead to the use of multiple linear regression.\n\n### Simple Linear Regression\nIn simple linear regression, the relationship between the dependent variable \\( Y \\) and the independent variable \\( X \\) is modeled with a straight line. The equation typically takes the form:\n\n\\[ Y = \\beta_0 + \\beta_1X + \\epsilon \\]\n\n- \\( Y \\) is the dependent variable (the outcome you're trying to predict).\n- \\( X \\) is the independent variable (the predictor).\n- \\( \\beta_0 \\) is the intercept (the value of \\( Y \\) when \\( X \\) is 0).\n- \\( \\beta_1 \\) is the slope (the change in \\( Y \\) for a one-unit change in \\( X \\)).\n- \\( \\epsilon \\) is the error term (the variation in \\( Y \\) that cannot be explained by the linear relationship with \\( X \\)).\n\n### Multiple Linear Regression\nFor multiple linear regression, the equation expands to accommodate multiple independent variables:\n\n\\[ Y = \\beta_0 + \\beta_1X_1 + \\beta_2X_2 + \\ldots + \\beta_nX_n + \\epsilon \\]\n\nHere, \\( X_1, X_2, \\ldots, X_n \\) are independent variables, and \\( \\beta_1, \\beta_2, \\ldots, \\beta_n \\) are their respective coefficients.\n\n### Goal and Method\nThe primary goal of linear regression is to find the best-fitting line through the data points that minimizes the sum of the squared differences between the observed values and the predicted values (this is known as the least squares criterion).\n\n### Steps in Linear Regression\n\n1. **Data Collection**: Gather data for the dependent variable \\( Y \\) and the independent variable(s) \\( X \\).\n2. **Model Specification**: Define the linear relationship as described above.\n3. **Parameter Estimation**: Use statistical software or methods such as Ordinary Least Squares (OLS) to estimate the coefficients \\( \\beta_0, \\beta_1, \\ldots, \\beta_n \\).\n4. **Model Fitting**: Fit the model to the data by finding the line that best minimizes the residual sum of squares.\n5. **Prediction**: Use the fitted model to predict new outcomes.\n\n### Interpretation\n- **Intercept (\\( \\beta_0 \\))**: Represents the expected value of \\( Y \\) when all \\( X_i \\) are zero.\n- **Slope (\\( \\beta_i \\))**: Indicates the expected change in \\( Y \\) for a one-unit change in \\( X_i \\).\n\n### Application\n- **Prediction**: Predict future or unseen values of the dependent variable.\n- **Understanding Relationships**: Analyze and understand the strength and direction of the relationship between variables.\n- **Trend Analysis**: Identify trends and make inferences in various fields like economics, biology, engineering, etc.\n\n### Assumptions\nTo ensure the validity of linear regression, certain assumptions must be met:\n1. Linearity: The relationship between independent and dependent variables is linear.\n2. Independence: Observations are independent of each other.\n3. Homoscedasticity: Constant variance of the errors.\n4. Normality: The residuals (errors) of the model are normally distributed.\n\nViolations of these assumptions can lead to unreliable estimates and predictions, so diagnostics and corrective measures are often necessary.\n\nIn summary, linear regression is a versatile and widely used tool in statistics for modeling and predicting outcomes based on relationships between variables. It provides both a predictive model and insights into the nature and strength of inter-variable relationships."
          },
          "metadata": {}
        }
      ]
    },
    {
      "cell_type": "markdown",
      "source": [
        "**3. Instruction and Format**"
      ],
      "metadata": {
        "id": "kS_K8VSCu-D5"
      }
    },
    {
      "cell_type": "code",
      "source": [
        "# Poor Prompt\n",
        "response = get_response(\"Explain neural networks.\")\n",
        "display_response(response)"
      ],
      "metadata": {
        "colab": {
          "base_uri": "https://localhost:8080/",
          "height": 1000
        },
        "id": "rAWCbER5uvR9",
        "outputId": "e4ac78fa-b266-4463-dd44-3eb117c1b365"
      },
      "execution_count": 12,
      "outputs": [
        {
          "output_type": "display_data",
          "data": {
            "text/plain": [
              "<IPython.core.display.Markdown object>"
            ],
            "text/markdown": "Neural networks are a subset of machine learning and are at the heart of deep learning algorithms. Their structure and functioning are inspired by the human brain, aimed at simulating the way biological neurons communicate with each other. Here's a comprehensive explanation:\n\n### Basic Building Blocks\n\n1. **Neuron (Node)**: The fundamental unit which receives input, processes it, and passes on the output to the next layer. Each neuron has weights and biases associated with it, which get updated during training to minimize error in the model's predictions.\n\n2. **Layers**:\n    - **Input Layer**: The first layer that receives the input features.\n    - **Hidden Layers**: Layers between the input and output layers where computations happen. A network can have one or multiple hidden layers, which is often referred to as a Deep Neural Network.\n    - **Output Layer**: The final layer that provides the prediction or classification result.\n\n3. **Weights and Biases**: Parameters that are adjusted during training. Weights control the signal (importance) between neurons, while biases allow the activation to be shifted.\n\n4. **Activation Function**: A mathematical function applied to the output of each neuron. Common functions include Sigmoid, Tanh, and ReLU (Rectified Linear Unit). They introduce non-linearity, enabling the network to learn complex patterns.\n\n### How Neural Networks Work\n\n1. **Forward Propagation**: \n    - Input data is fed into the input layer.\n    - Each neuron computes a weighted sum of its inputs, adds a bias, applies an activation function, and passes the result to neurons in the next layer.\n\n2. **Loss Function**: Measures how well the network's predictions match the actual targets. Common loss functions include Mean Squared Error for regression tasks and Cross-Entropy Loss for classification tasks.\n\n3. **Backpropagation**:\n    - Gradients of the loss function with respect to each parameter (weight and bias) are calculated using the chain rule of calculus.\n    - These gradients are then used to update the weights and biases using optimization algorithms like Stochastic Gradient Descent (SGD) or Adam.\n\n### Types of Neural Networks\n\n1. **Feedforward Neural Networks (FNN)**: The simplest form where connections between the nodes do not form cycles. Information moves in one direction, from input to output.\n\n2. **Convolutional Neural Networks (CNN)**: Primarily used for image and video processing. They use convolutions in place of general matrix multiplication in at least one of their layers.\n\n3. **Recurrent Neural Networks (RNN)**: Designed to recognize sequences in data (e.g., time-series, language). They have connections that form directed cycles, allowing information to persist.\n\n4. **Long Short-term Memory Networks (LSTM)**: A variant of RNNs that is better at maintaining context over longer durations by combating the vanishing gradient problem.\n\n5. **Generative Adversarial Networks (GAN)**: Consist of two neural networks, a generator and a discriminator, that are trained simultaneously. The generator creates data, and the discriminator evaluates it.\n\n### Applications\n\n- **Image and Video Recognition**: Object detection, facial recognition, and more.\n- **Natural Language Processing**: Language translation, sentiment analysis, and chatbots.\n- **Recommendation Systems**: Personalizing content, product recommendations.\n- **Healthcare**: Diagnosing diseases, drug discovery.\n- **Autonomous Vehicles**: Path planning, object detection, and obstacle avoidance.\n\n### Key Concepts\n\n1. **Overfitting and Underfitting**: Overfitting occurs when the model learns the training data too well, capturing noise and details that don't generalize. Underfitting happens when the model is too simple to capture the underlying pattern of the data.\n\n2. **Regularization**: Techniques like L1, L2 regularization, and dropout (randomly setting some neurons to zero during training) help in preventing overfitting.\n\n3. **Epochs, Batch Size, and Learning Rate**:\n    - **Epochs**: One complete pass through the entire training dataset.\n    - **Batch Size**: The number of training examples processed in one iteration.\n    - **Learning Rate**: The step size at each iteration while moving toward a minimum of the loss function.\n\n### Summary\nNeural networks form the backbone of many modern AI applications, enabling machines to learn from data and improve their performance over time. Their flexibility and power come from their ability to approximate complex functions and discern intricate patterns in large datasets."
          },
          "metadata": {}
        }
      ]
    },
    {
      "cell_type": "code",
      "source": [
        "# Recommended Prompt\n",
        "response = get_response(\"Explain the concept of neural networks in simple terms, using an analogy, and limit the explanation to two paragraphs.\")\n",
        "display_response(response)"
      ],
      "metadata": {
        "colab": {
          "base_uri": "https://localhost:8080/",
          "height": 278
        },
        "id": "LYt4MVdwvYlv",
        "outputId": "cf8e52b6-49a8-4c00-f868-3cecaeec62e8"
      },
      "execution_count": 13,
      "outputs": [
        {
          "output_type": "display_data",
          "data": {
            "text/plain": [
              "<IPython.core.display.Markdown object>"
            ],
            "text/markdown": "Think of a neural network as a group of interconnected \"neurons\" in a computer that work together to solve a problem, much like a team of people collaborating on a task. Imagine you're organizing a huge party and have assigned different responsibilities to various friends: one handles invitations, another takes care of the decorations, and someone else arranges the food. Each friend listens to inputs (like the guest list or party theme), processes that information, and makes decisions to ensure everything goes smoothly. Neural networks operate similarly, where each neuron processes a small part of the data, such as recognizing patterns in images or sounds, and then passes its findings to other neurons for further refinement.\n\nThese artificial neurons are organized in layers. The first layer receives the raw data (like an image’s pixels), processes it, and passes the output to the next layer, which further refines the data by recognizing more abstract features (like edges or shapes). This continues until the final layer, where the network makes a decision or prediction, similar to how the party planning might ultimately result in a final schedule. Just as each friend’s contribution is crucial for a successful party, each neuron’s contribution helps the neural network understand complex data and make accurate decisions."
          },
          "metadata": {}
        }
      ]
    },
    {
      "cell_type": "markdown",
      "source": [
        "**4. Avoid Ambiguity**"
      ],
      "metadata": {
        "id": "VcrOEX4Gvh4K"
      }
    },
    {
      "cell_type": "code",
      "source": [
        "# Poor Prompt\n",
        "response = get_response(\"What can you tell me about apples?\")\n",
        "display_response(response)"
      ],
      "metadata": {
        "colab": {
          "base_uri": "https://localhost:8080/",
          "height": 1000
        },
        "id": "2ygqCnCAvqTZ",
        "outputId": "d22f39ae-d152-4ee9-c59e-7d14785daab5"
      },
      "execution_count": 14,
      "outputs": [
        {
          "output_type": "display_data",
          "data": {
            "text/plain": [
              "<IPython.core.display.Markdown object>"
            ],
            "text/markdown": "Apples are one of the most popular and widely cultivated fruits in the world. Here are some key points about apples:\n\n### Botanical Information:\n1. **Scientific Name**: Malus domestica.\n2. **Family**: Rosaceae (the rose family).\n3. **Origin**: Apples are believed to have originated in Central Asia, specifically in the region of Kazakhstan.\n\n### Types and Varieties:\n- There are thousands of apple varieties, each with its own unique flavor, color, and texture. Common varieties include:\n  - **Red Delicious**: Sweet and mildly flavored with deep red skin.\n  - **Granny Smith**: Green, tart, and crisp, often used in baking.\n  - **Fuji**: Sweet, crisp, and juicy, often considered one of the best apples for eating fresh.\n  - **Gala**: Sweet and aromatic with a fine texture, suitable for eating fresh or in salads.\n  - **Honeycrisp**: Renowned for its crisp texture and balanced sweetness.\n\n### Nutritional Information:\n- **Calories**: Approximately 52 calories per 100 grams.\n- **Carbohydrates**: Around 14 grams per 100 grams, primarily from natural sugars.\n- **Fiber**: A good source of dietary fiber, particularly pectin, which can aid in digestion.\n- **Vitamins and Minerals**: Rich in Vitamin C and also contains small amounts of Vitamin A, potassium, and other essential nutrients.\n\n### Health Benefits:\n1. **Dietary Fiber**: Supports digestive health and can help control blood sugar levels.\n2. **Antioxidants**: Apples contain flavonoids and polyphenols, which have antioxidant properties and can help reduce the risk of chronic diseases.\n3. **Heart Health**: Associated with lower cholesterol levels and improved heart health.\n4. **Hydration**: Apples have a high water content, which helps with hydration.\n\n### Uses:\n- **Eating Fresh**: Apples are commonly eaten as a snack.\n- **Cooking and Baking**: Used in pies, tarts, crisps, sauces, and various desserts.\n- **Dried Apples**: Can be made into dried snacks.\n- **Juice and Cider**: Apples are often processed into juice and fermented into cider.\n- **Salads**: Often included for a sweet, crisp element in green or fruit salads.\n\n### Growth and Harvest:\n- **Climate**: Apples grow in temperate climates and require a certain number of chill hours to produce fruit.\n- **Cultivation**: They are usually grown in orchards and require careful management to protect against pests and diseases.\n- **Harvesting**: Typically harvested in late summer to fall, though the exact timing depends on the variety and region.\n\n### Cultural Significance:\n- Apples have been symbolic in various cultures and mythologies. For example, the apple is often associated with knowledge, immortality, and temptation (as in the biblical story of Adam and Eve).\n\n### Fun Facts:\n1. **Apple Tree Lifespan**: Apple trees can live for over 100 years, although their fruit production may decline with age.\n2. **Apple Consumption**: China is the largest producer of apples in the world.\n3. **Variety**: Worldwide, there are over 7,500 known varieties of apples.\n\n### Environmental Impact:\n- Apple growing can be resource-intensive, requiring significant water and pest control measures, though sustainable practices are becoming more common.\n\nOverall, apples are a versatile and healthy fruit enjoyed globally for their numerous benefits and wide range of uses."
          },
          "metadata": {}
        }
      ]
    },
    {
      "cell_type": "code",
      "source": [
        "# Recommended Prompt\n",
        "response = get_response(\"Provide health benefits of consuming apples (the fruit), including their nutritional content and effects on the body.\")\n",
        "display_response(response)"
      ],
      "metadata": {
        "colab": {
          "base_uri": "https://localhost:8080/",
          "height": 1000
        },
        "id": "Mvpt5lEuvs6i",
        "outputId": "204247d4-75a5-4a84-a9de-e6d720fdcefc"
      },
      "execution_count": 15,
      "outputs": [
        {
          "output_type": "display_data",
          "data": {
            "text/plain": [
              "<IPython.core.display.Markdown object>"
            ],
            "text/markdown": "Apples are a popular and nutritious fruit, known for their wide range of health benefits. Here's an overview of the key nutritional content and effects on the body:\n\n### Nutritional Content\nApples are low in calories and rich in essential nutrients. A medium-sized apple (approximately 182 grams) provides:\n\n- **Calories:** About 95\n- **Carbohydrates:** Approximately 25 grams\n  - **Dietary Fiber:** Around 4 grams (16% of the recommended daily intake)\n  - **Sugars:** Natural sugars, including fructose, glucose, and sucrose\n- **Protein:** Small amounts (less than 1 gram)\n- **Fat:** Negligible (less than 1 gram)\n- **Vitamins:**\n  - **Vitamin C:** Around 14% of the recommended daily intake\n  - **Vitamin A, Vitamin K, and several B vitamins:** Present in smaller amounts\n- **Minerals:**\n  - **Potassium:** Approximately 6% of the recommended daily intake\n  - **Other trace minerals:** Includes calcium, magnesium, and iron in small amounts\n- **Antioxidants and Phytochemicals:**\n  - **Quercetin, Catechin, Chlorogenic acid, and various other flavonoids and polyphenols**\n\n### Health Benefits\n#### 1. **Heart Health**\n- **Lower Cholesterol:** The soluble fiber (pectin) in apples helps to lower LDL (bad) cholesterol levels.\n- **Antioxidants:** Flavonoids and polyphenols in apples help reduce oxidative stress, which is beneficial for heart health.\n\n#### 2. **Digestive Health**\n- **Fiber Content:** Apples are rich in dietary fiber, which aids in digestion and promotes healthy bowel movements. It can also help prevent constipation.\n\n#### 3. **Weight Management**\n- **Low Calories:** Apples are low in calories and high in fiber, which helps promote a feeling of fullness and can aid in weight management.\n- **Hydration:** With a high water content, apples also help keep you hydrated and feeling full.\n\n#### 4. **Blood Sugar Control**\n- **Low Glycemic Index:** The fiber in apples helps to moderate blood sugar levels by slowing the absorption of sugars.\n- **Polyphenols:** These compounds can improve insulin sensitivity and reduce blood sugar spikes.\n\n#### 5. **Cancer Prevention**\n- **Antioxidants:** The various antioxidants present in apples help protect cells from oxidative damage, which can reduce the risk of certain cancers.\n- **Fiber:** A high-fiber diet has been linked to a lower risk of colorectal cancer.\n\n#### 6. **Bone Health**\n- **Bone Density:** Some studies suggest that the antioxidants and anti-inflammatory compounds in apples may promote bone density and strength.\n\n#### 7. **Brain Health**\n- **Neuroprotection:** The antioxidants in apples, particularly quercetin, have been shown to have neuroprotective effects, potentially reducing the risk of neurodegenerative diseases like Alzheimer's.\n\n#### 8. **Immune Support**\n- **Vitamin C:** This vitamin is crucial for a healthy immune system. Apples provide a good, though not large, amount of vitamin C.\n\n### Conclusion\nApples are a nutritious and versatile fruit that can play an important role in a balanced diet. Their combination of vitamins, minerals, fiber, and antioxidants provides numerous health benefits that support heart health, digestion, blood sugar control, and overall well-being. Incorporating apples into your diet is a delicious and effective way to contribute to long-term health."
          },
          "metadata": {}
        }
      ]
    },
    {
      "cell_type": "markdown",
      "source": [
        "**5. Use of Constraints**"
      ],
      "metadata": {
        "id": "kuxWQo6av64j"
      }
    },
    {
      "cell_type": "code",
      "source": [
        "# Poor Prompt\n",
        "response = get_response(\"Give me a summary of the industrial revolution.\")\n",
        "display_response(response)"
      ],
      "metadata": {
        "colab": {
          "base_uri": "https://localhost:8080/",
          "height": 567
        },
        "id": "jeA9BCr1v_2d",
        "outputId": "8ee4c6c6-7d02-42a4-e01f-bbaffefb7e39"
      },
      "execution_count": 16,
      "outputs": [
        {
          "output_type": "display_data",
          "data": {
            "text/plain": [
              "<IPython.core.display.Markdown object>"
            ],
            "text/markdown": "The Industrial Revolution was a period of significant economic, social, and technological change that began in the late 18th century and lasted into the 19th century. It originated in Britain before spreading to other parts of the world. This era marked a major turning point in history as societies transitioned from agrarian economies based on manual labor and artisanal craftsmanship to industrial economies dominated by machine manufacturing and factory systems.\n\nKey features of the Industrial Revolution include:\n\n1. Technological Innovations: The development of new technologies played a crucial role, with inventions such as the steam engine, spinning jenny, power loom, and mechanized cotton gin drastically improving production efficiency.\n\n2. Rise of Factories: The advent of factory systems centralized production and labor, leading to mass production of goods. This shift enabled economies of scale and lower production costs.\n\n3. Urbanization: As factories proliferated, people moved from rural areas to urban centers in search of work. This migration resulted in rapid urban growth and the development of new cities.\n\n4. Transportation Improvements: Innovations such as the steam locomotive, railroads, and steamships revolutionized transportation, facilitating the rapid movement of goods and people and expanding trade networks.\n\n5. Economic Impact: The Industrial Revolution spurred significant economic growth and increased overall wealth. However, it also led to stark economic inequalities and harsh working conditions for many laborers, including children.\n\n6. Social Changes: The shift from rural to urban living altered social structures and family dynamics. It gave rise to a distinct working class and a burgeoning middle class, while also prompting social and labor reforms.\n\n7. Environmental Impact: Industrialization led to environmental degradation, including deforestation, air and water pollution, and significant changes in land use.\n\nThe Industrial Revolution had profound and lasting effects on nearly every aspect of society, laying the foundation for the modern industrialized world. It also prompted numerous subsequent innovations and set the stage for the later technological advancements of the 20th and 21st centuries."
          },
          "metadata": {}
        }
      ]
    },
    {
      "cell_type": "code",
      "source": [
        "# Recommended Prompt\n",
        "response = get_response(\"Summarize the key events of the industrial revolution in no more than five bullet points.\")\n",
        "display_response(response)"
      ],
      "metadata": {
        "colab": {
          "base_uri": "https://localhost:8080/",
          "height": 279
        },
        "id": "xmHNuY2pwDQ4",
        "outputId": "685811a4-8db4-4bc1-b326-942fb1cc6f55"
      },
      "execution_count": 17,
      "outputs": [
        {
          "output_type": "display_data",
          "data": {
            "text/plain": [
              "<IPython.core.display.Markdown object>"
            ],
            "text/markdown": "- **Technological Innovations**: The Industrial Revolution saw the invention and widespread adoption of machinery, including the steam engine, spinning jenny, and power loom, which drastically increased production efficiency.\n  \n- **Urbanization**: A significant migration from rural areas to cities occurred as people sought work in factories, leading to rapid urban growth and the development of industrial cities.\n\n- **Transportation Advances**: Improvements in transportation, such as the expansion of the railway network and the construction of canals, facilitated faster movement of goods and people.\n\n- **Economic Changes**: The shift from agrarian economies to industrialized ones led to changes in labor systems, with the rise of factory work, wage labor, and the emergence of industrial capitalists.\n\n- **Social Impact**: The Industrial Revolution had profound social consequences, including changes in living conditions, the formation of a new working class, the rise of labor unions, and significant increases in population growth."
          },
          "metadata": {}
        }
      ]
    },
    {
      "cell_type": "markdown",
      "source": [
        "**6. Incorporating Examples**"
      ],
      "metadata": {
        "id": "AFP9DZdjwFip"
      }
    },
    {
      "cell_type": "code",
      "source": [
        "# Poor Prompt\n",
        "response = get_response(\"How does recursion work?\")\n",
        "display_response(response)"
      ],
      "metadata": {
        "colab": {
          "base_uri": "https://localhost:8080/",
          "height": 986
        },
        "id": "eaaxcrwjwcpw",
        "outputId": "a83319f3-1c79-4166-9a11-71f109240557"
      },
      "execution_count": 18,
      "outputs": [
        {
          "output_type": "display_data",
          "data": {
            "text/plain": [
              "<IPython.core.display.Markdown object>"
            ],
            "text/markdown": "Recursion is a programming technique where a function calls itself in order to solve smaller instances of the same problem. The key idea behind recursion is to break down complex problems into simpler, more manageable sub-problems. To understand recursion fully, one should be familiar with a few important concepts:\n\n1. **Base Case**: This is the condition that stops the recursion. Without a base case, the function would call itself indefinitely, leading to infinite recursion and likely a stack overflow error.\n\n2. **Recursive Case**: This is the part of the function that includes the recursive call. It breaks the problem into a smaller problem and calls the function itself with this smaller problem.\n\nLet's use the classic example of a factorial function to illustrate recursion. The factorial of a non-negative integer \\( n \\) (denoted as \\( n! \\)) is the product of all positive integers from 1 to \\( n \\). The factorial function can be defined recursively as follows:\n\n- Base case: \\( 0! = 1 \\)\n- Recursive case: \\( n! = n \\times (n-1)! \\) for \\( n > 0 \\)\n\nHere is how you might implement this recursively in Python:\n\n```python\ndef factorial(n):\n    if n == 0:  # Base case\n        return 1\n    else:\n        return n * factorial(n - 1)  # Recursive case\n\n# Example usage\nprint(factorial(5))  # Output: 120\n```\n\n### How It Works:\n1. **factorial(5)** calls **factorial(4)**\n2. **factorial(4)** calls **factorial(3)**\n3. **factorial(3)** calls **factorial(2)**\n4. **factorial(2)** calls **factorial(1)**\n5. **factorial(1)** calls **factorial(0)**\n\nAt each step, the problem is simplified slightly (i.e., the value of \\( n \\) is decremented by 1). When \\( n \\) reaches 0, the base case is triggered, and the recursive calls start to resolve:\n\n1. **factorial(0)** returns 1\n2. **factorial(1)** returns \\( 1 \\times 1 = 1 \\)\n3. **factorial(2)** returns \\( 2 \\times 1 = 2 \\)\n4. **factorial(3)** returns \\( 3 \\times 2 = 6 \\)\n5. **factorial(4)** returns \\( 4 \\times 6 = 24 \\)\n6. **factorial(5)** returns \\( 5 \\times 24 = 120 \\)\n\nThus, the function ultimately returns 120 for **factorial(5)**.\n\n### Key Points:\n- **Termination**: Ensure the function has a proper base case to avoid infinite recursion.\n- **Memory Usage**: Each recursive call adds a new layer to the call stack. Excessive recursion can lead to stack overflow.\n- **Clarity and Simplicity**: Recursion can simplify the logic for problems that can be divided into similar sub-problems (like tree traversal, sorting algorithms, etc.), though iterative solutions might be more efficient in some cases.\n\nBy mastering recursion, you can leverage this powerful technique to solve various computational problems efficiently and elegantly."
          },
          "metadata": {}
        }
      ]
    },
    {
      "cell_type": "code",
      "source": [
        "# Recommended Prompt\n",
        "response = get_response(\"Explain recursion in programming and provide a simple example of a recursive function that calculates the factorial of a number.\")\n",
        "display_response(response)"
      ],
      "metadata": {
        "colab": {
          "base_uri": "https://localhost:8080/",
          "height": 879
        },
        "id": "cx07rVNbweOt",
        "outputId": "606780a8-4b5a-4ed3-fa33-2ff576a15123"
      },
      "execution_count": 19,
      "outputs": [
        {
          "output_type": "display_data",
          "data": {
            "text/plain": [
              "<IPython.core.display.Markdown object>"
            ],
            "text/markdown": "Certainly! Recursion in programming is a technique where a function calls itself in order to solve a problem. A recursive function typically has two main parts:\n\n1. **Base Case**: The condition under which the function stops calling itself to prevent an infinite loop. This is the simplest instance of the problem which can be solved directly.\n2. **Recursive Case**: The part of the function where it calls itself with a smaller or simpler sub-problem, gradually working towards the base case.\n\nA classic example of recursion is computing the factorial of a number. The factorial of a non-negative integer \\( n \\) (denoted as \\( n! \\)) is the product of all positive integers less than or equal to \\( n \\). By definition:\n\n- \\( 0! = 1 \\)\n- \\( n! = n \\times (n-1)! \\) for \\( n > 0 \\)\n\nHere's a simple recursive function in Python that calculates the factorial of a number:\n\n```python\ndef factorial(n):\n    # Base case: if n is 0, the factorial is 1\n    if n == 0:\n        return 1\n    # Recursive case: n! = n * (n-1)!\n    else:\n        return n * factorial(n - 1)\n\n# Example usage:\nnumber = 5\nprint(f\"The factorial of {number} is {factorial(number)}\")\n```\n\n### Explanation:\n- **Base Case**: When \\( n = 0 \\), the function returns 1.\n- **Recursive Case**: Otherwise, the function returns \\( n \\times \\text{factorial}(n - 1) \\).\n\nHere’s how the function works step by step for `factorial(5)`:\n1. `factorial(5)` calls `factorial(4)`\n2. `factorial(4)` calls `factorial(3)`\n3. `factorial(3)` calls `factorial(2)`\n4. `factorial(2)` calls `factorial(1)`\n5. `factorial(1)` calls `factorial(0)`\n6. `factorial(0)` returns `1` (base case)\n7. `factorial(1)` then returns `1 * 1 = 1`\n8. `factorial(2)` then returns `2 * 1 = 2`\n9. `factorial(3)` then returns `3 * 2 = 6`\n10. `factorial(4)` then returns `4 * 6 = 24`\n11. `factorial(5)` then returns `5 * 24 = 120`\n\nSo, `factorial(5)` is `120`.\n\nRecursion can be a powerful tool for breaking down complex problems into simpler sub-problems. However, it’s important to ensure that the base case is reached to prevent infinite recursion, which would lead to a stack overflow error."
          },
          "metadata": {}
        }
      ]
    },
    {
      "cell_type": "markdown",
      "source": [
        "**7. Handling Technical Jargon**"
      ],
      "metadata": {
        "id": "k1JjR2pqwf-9"
      }
    },
    {
      "cell_type": "code",
      "source": [
        "# Poor Prompt\n",
        "response = get_response(\"Explain the P vs NP problem.\")\n",
        "display_response(response)"
      ],
      "metadata": {
        "colab": {
          "base_uri": "https://localhost:8080/",
          "height": 1000
        },
        "id": "Gp3cHHpTwtbn",
        "outputId": "cd6a7660-b81e-4586-d721-47a9b81705ea"
      },
      "execution_count": 20,
      "outputs": [
        {
          "output_type": "display_data",
          "data": {
            "text/plain": [
              "<IPython.core.display.Markdown object>"
            ],
            "text/markdown": "The P vs NP problem is one of the most important and challenging open problems in computer science and mathematics. It revolves around the relationship between two classes of problems: those that can be solved efficiently (in polynomial time) and those whose solutions can be verified efficiently.\n\n### What are P and NP?\n\n1. **P (Polynomial time):** \n   - This class consists of decision problems (problems with a yes/no answer) that can be solved by a deterministic Turing machine in polynomial time. In simpler terms, for a problem to be in P, there exists an algorithm that can find the solution in a time that grows at most as a polynomial function of the size of the input.\n   - Example: Given two integers, determine if one is divisible by the other. This can be done using the Euclidean algorithm, which runs in polynomial time relative to the number of digits in the input.\n\n2. **NP (Nondeterministic Polynomial time):**\n   - This class consists of decision problems for which a given solution can be verified in polynomial time by a deterministic Turing machine. Essentially, if someone provides a candidate solution, you can check its correctness quickly (in polynomial time), even if finding that solution might be difficult.\n   - Example: The Boolean satisfiability problem (SAT), where given a Boolean formula, the task is to determine if there is an assignment of truth values to variables that makes the formula true. If someone gives you a particular assignment, you can verify its correctness efficiently.\n\n### The P vs NP Question:\n\n- **The Big Question:** Is P equal to NP? This asks whether every problem whose solution can be quickly verified (NP) can also be quickly solved (P).\n  - **P = NP:** If this were true, it would mean that any problem for which a solution can be verified quickly can also be solved quickly. This would have enormous implications for fields ranging from cryptography to optimization.\n  - **P ≠ NP:** If this is true, it means there exist problems in NP that are inherently more difficult to solve than to verify, suggesting fundamental limits on what can be computed efficiently.\n\n### Why is it important?\n\n1. **Theoretical Impact:** \n   - It addresses fundamental questions about the nature of computation and the limits of what can be efficiently computed.\n   \n2. **Practical Impact:** \n   - Many cryptographic systems rely on certain problems being hard to solve (believed to be in NP but not in P). If P were found to equal NP, these systems would be vulnerable because the \"hard\" problems they rely on would actually be easy to solve.\n   - Numerous optimization problems in logistics, manufacturing, artificial intelligence, and other fields rely on approximations and heuristics because they are believed to be hard to solve exactly in polynomial time. Proving P = NP could revolutionize these fields.\n\n### Current Status:\n\nAs of now (2023), the question of whether P equals NP remains unresolved. It’s one of the seven Millennium Prize Problems, for which the Clay Mathematics Institute offers a $1 million prize for a correct proof either way.\n\nIn summary, the P vs NP problem asks whether every problem that can be verified quickly can also be solved quickly, and it encapsulates a profound question about the limits of human knowledge and computational power."
          },
          "metadata": {}
        }
      ]
    },
    {
      "cell_type": "code",
      "source": [
        "# Recommended Prompt\n",
        "response = get_response(\"Explain the P vs NP problem in computer science in simple terms for someone without a formal mathematics background.\")\n",
        "display_response(response)"
      ],
      "metadata": {
        "colab": {
          "base_uri": "https://localhost:8080/",
          "height": 383
        },
        "id": "paXWHVAYwvpQ",
        "outputId": "ae52123b-420a-4b31-de8e-44096f50e58b"
      },
      "execution_count": 21,
      "outputs": [
        {
          "output_type": "display_data",
          "data": {
            "text/plain": [
              "<IPython.core.display.Markdown object>"
            ],
            "text/markdown": "Sure, let's break it down in simple terms:\n\nImagine you're trying to solve a very tricky puzzle. It might take you a long time to figure out if you can solve it at all. This is like what computer scientists call an \"NP problem\" – it's a problem that might be very hard and time-consuming to solve.\n\nNow, imagine there's another type of problem where, if someone gives you a solution, you can quickly and easily check whether it's correct. That's like what computer scientists call a \"P problem\" – it's a problem where checking a solution is easy and fast.\n\nThe big question, called the P vs NP problem, is about whether every problem for which a solution can be quickly checked (NP) can also be quickly solved (P).\n\nIf the answer is \"yes,\" then P = NP, meaning every problem where you can quickly verify a solution, you can also quickly find a solution.\n\nIf the answer is \"no,\" then P ≠ NP, meaning there are some problems you can quickly check but can't quickly solve.\n\nThe reason this is so important is that many real-world problems, like scheduling, cryptography, and even some scientific questions, fall into these categories. Figuring out the relationship between P and NP would have huge implications for fields like mathematics, computer science, and beyond.\n\nAs of now, no one knows the answer, and it's one of the biggest unsolved mysteries in computer science!"
          },
          "metadata": {}
        }
      ]
    },
    {
      "cell_type": "markdown",
      "source": [
        "**8. Guiding Tone and Style**"
      ],
      "metadata": {
        "id": "g8F5Vykcwy-F"
      }
    },
    {
      "cell_type": "code",
      "source": [
        "# Poor Prompt\n",
        "response = get_response(\"What is climate change?\")\n",
        "display_response(response)"
      ],
      "metadata": {
        "colab": {
          "base_uri": "https://localhost:8080/",
          "height": 435
        },
        "id": "_qOUeRzfxKrt",
        "outputId": "f8f0eb2f-5c2b-430b-8838-f42cf2424463"
      },
      "execution_count": 23,
      "outputs": [
        {
          "output_type": "display_data",
          "data": {
            "text/plain": [
              "<IPython.core.display.Markdown object>"
            ],
            "text/markdown": "Climate change refers to significant, long-term changes in the average weather patterns and temperatures of the Earth. It can be caused by natural factors, such as volcanic eruptions, variations in solar radiation, and natural greenhouse gas emissions. However, in the current context, climate change largely refers to the recent and rapid changes in climate patterns attributed primarily to human activities.\n\nHuman activities contributing to climate change include the burning of fossil fuels (like coal, oil, and natural gas), deforestation, and certain agricultural practices that increase the concentration of greenhouse gases (GHGs) in the atmosphere. These GHGs, such as carbon dioxide (CO2), methane (CH4), and nitrous oxide (N2O), trap heat from the sun, leading to a \"greenhouse effect\" that increases the Earth's average temperature.\n\nKey indicators and impacts of climate change include:\n- Rising global temperatures\n- Melting polar ice caps and glaciers\n- Rising sea levels\n- Increased frequency and intensity of extreme weather events (such as hurricanes, heatwaves, droughts, and heavy rainfall)\n- Shifts in ecosystems and wildlife populations\n- Ocean acidification\n\nAddressing climate change requires both mitigation strategies to reduce or prevent the emission of GHGs and adaptation strategies to manage and prepare for the impacts that are already occurring or are anticipated. This includes international cooperation, policy measures, technological innovation, and changes in consumption and behavior."
          },
          "metadata": {}
        }
      ]
    },
    {
      "cell_type": "code",
      "source": [
        "# Recommended Prompt\n",
        "response = get_response(\"Explain climate change in a conversational tone, as if you are explaining it to a 5-year old.\")\n",
        "display_response(response)"
      ],
      "metadata": {
        "colab": {
          "base_uri": "https://localhost:8080/",
          "height": 255
        },
        "id": "UtYX7grjxMKb",
        "outputId": "f58998a6-1123-4a3a-d2c2-ae84ac8bc38f"
      },
      "execution_count": 22,
      "outputs": [
        {
          "output_type": "display_data",
          "data": {
            "text/plain": [
              "<IPython.core.display.Markdown object>"
            ],
            "text/markdown": "Okay, buddy, imagine you have a cozy blanket that keeps you warm at night. The Earth has a blanket too—it's called the atmosphere. It helps keep the Earth warm by trapping some of the sun’s heat, just like your blanket traps your body heat.\n\nNow, picture if you kept adding more and more blankets on top of yourself. You’d get too hot, right? That’s kind of what’s happening to our Earth. When we burn things like coal, oil, and gas for energy, it makes a gas called carbon dioxide (CO2). Too much CO2 is like adding extra blankets on the Earth, trapping more and more heat.\n\nThis extra heat makes things go a little out of whack. It’s melting ice in very cold places, making oceans rise, and causing weather to act sort of strangely. It can get too hot in some places, too rainy in others, and sometimes even cause storms to be stronger.\n\nThat's why people everywhere are trying to find ways to take off those extra blankets and help the Earth stay comfy and safe—just like us! Cool, huh?"
          },
          "metadata": {}
        }
      ]
    },
    {
      "cell_type": "markdown",
      "source": [
        "**9. Anticipating Bias or Incomplete Information**"
      ],
      "metadata": {
        "id": "kj4f_LG5xNvb"
      }
    },
    {
      "cell_type": "code",
      "source": [
        "# Poor Prompt\n",
        "response = get_response(\"Who is the best president?\")\n",
        "display_response(response)"
      ],
      "metadata": {
        "colab": {
          "base_uri": "https://localhost:8080/",
          "height": 383
        },
        "id": "HKv0YFY1xV3D",
        "outputId": "9addd8d3-5c13-4612-a2dd-dbdeb1958e13"
      },
      "execution_count": 24,
      "outputs": [
        {
          "output_type": "display_data",
          "data": {
            "text/plain": [
              "<IPython.core.display.Markdown object>"
            ],
            "text/markdown": "The question of who the \"best\" president is can be highly subjective and depends on various factors, including individual values, political beliefs, and priorities. Different historians, political scientists, and members of the public may have different opinions about which president was the best based on their accomplishments, leadership style, policies, and impact on the country.\n\nFor instance, some commonly mentioned presidents who are often highly ranked in historical evaluations include:\n\n- **George Washington**: He set many of the precedents for the presidency and was instrumental in the founding of the United States.\n  \n- **Abraham Lincoln**: He is often praised for his leadership during the Civil War and his role in ending slavery with the Emancipation Proclamation.\n  \n- **Franklin D. Roosevelt**: He led the country through the Great Depression with his New Deal policies and played a significant role during World War II.\n  \n- **Thomas Jefferson**: He is noted for the Louisiana Purchase and authoring the Declaration of Independence.\n  \n- **Theodore Roosevelt**: Known for his progressive policies, including trust-busting and conservation efforts.\n\nUltimately, the \"best president\" is a matter of personal interpretation, and views may evolve over time as more information and historical perspectives become available."
          },
          "metadata": {}
        }
      ]
    },
    {
      "cell_type": "code",
      "source": [
        "# Recommended Prompt\n",
        "response = get_response(\"List the key accomplishments of three highly regarded U.S. presidents, with a brief explanation of their contributions.\")\n",
        "display_response(response)"
      ],
      "metadata": {
        "colab": {
          "base_uri": "https://localhost:8080/",
          "height": 771
        },
        "id": "7tAImzY8xXia",
        "outputId": "2cf3ba86-0387-4482-90cf-28254fcdc024"
      },
      "execution_count": 25,
      "outputs": [
        {
          "output_type": "display_data",
          "data": {
            "text/plain": [
              "<IPython.core.display.Markdown object>"
            ],
            "text/markdown": "Certainly! Here are the key accomplishments of three highly regarded U.S. presidents:\n\n### 1. **George Washington (1789-1797)**\n**Key Accomplishments:**\n- **Founding Father and First President:** As the first President of the United States, Washington set many precedents for the national government and the presidency in particular, including the tradition of a peaceful transfer of power.\n- **Neutrality Proclamation:** He established the principle of American neutrality in foreign conflicts with his Neutrality Proclamation in 1793, which kept the U.S. out of the escalating conflicts in Europe.\n- **Farewell Address:** In his farewell address, Washington advised the nation to avoid entangling alliances and political parties, laying the groundwork for American isolationist policy in the 19th century.\n\n### 2. **Abraham Lincoln (1861-1865)**\n**Key Accomplishments:**\n- **Preservation of the Union:** Lincoln led the country through its Civil War, the greatest moral, constitutional, and political crisis in U.S. history, preserving the Union.\n- **Emancipation Proclamation:** Issued in 1863, this executive order declared the freedom of all slaves in Confederate-held territory, laying a moral foundation for the abolition of slavery.\n- **Gettysburg Address:** Delivered in 1863, this speech redefined the purpose of the war and reaffirmed the principles of liberty and equality.\n- **Thirteenth Amendment:** Though passed after his death, Lincoln's efforts were critical in the adoption of this amendment, which abolished slavery throughout the United States.\n\n### 3. **Franklin D. Roosevelt (1933-1945)**\n**Key Accomplishments:**\n- **New Deal:** In response to the Great Depression, Roosevelt implemented the New Deal, a series of programs, public works projects, financial reforms, and regulations designed to provide relief, recovery, and reform to the devastated U.S. economy.\n- **Social Security Act:** Signed into law in 1935, this act established the Social Security system, which provides financial assistance to the elderly, disabled, and unemployed.\n- **World War II Leadership:** Roosevelt led the United States during most of World War II, building strong alliances with other nations and laying the groundwork for the United Nations to promote global peace and cooperation.\n- **Four Freedoms Speech:** Articulated in 1941, this speech outlined Roosevelt's vision for a post-war world based on four fundamental freedoms: freedom of speech, freedom of worship, freedom from want, and freedom from fear.\n\nThese presidents are revered not only for their leadership during pivotal moments in U.S. history but also for their lasting influence on the nation's political and social landscape."
          },
          "metadata": {}
        }
      ]
    },
    {
      "cell_type": "markdown",
      "source": [
        "**10. Avoiding Open-Ended Prompts in Specific Use Cases**"
      ],
      "metadata": {
        "id": "KIP84xOqxZ62"
      }
    },
    {
      "cell_type": "code",
      "source": [
        "# Poor Prompt\n",
        "response = get_response(\"Tell me something interesting.\")\n",
        "display_response(response)"
      ],
      "metadata": {
        "colab": {
          "base_uri": "https://localhost:8080/",
          "height": 116
        },
        "id": "ufs3vvW2xecb",
        "outputId": "146b1c46-bcf2-4e9c-c2ef-9a17b4768f99"
      },
      "execution_count": 26,
      "outputs": [
        {
          "output_type": "display_data",
          "data": {
            "text/plain": [
              "<IPython.core.display.Markdown object>"
            ],
            "text/markdown": "Sure! Did you know that octopuses have three hearts? Two pump blood to the gills, while the third pumps it to the rest of the body. What’s even more fascinating is their blood is blue, not red. This is because they use a copper-based molecule called hemocyanin to carry oxygen, instead of the iron-based hemoglobin that humans and many other animals use. This adaptation helps them survive in deep, cold ocean environments where oxygen is scarce. How cool is that?"
          },
          "metadata": {}
        }
      ]
    },
    {
      "cell_type": "code",
      "source": [
        "# Recommended Prompt\n",
        "response = get_response(\"Tell me an interesting fact about space exploration in the last decade.\")\n",
        "display_response(response)"
      ],
      "metadata": {
        "colab": {
          "base_uri": "https://localhost:8080/",
          "height": 168
        },
        "id": "CzwUQLG6xgJt",
        "outputId": "6f4cbe79-713c-43e1-fc20-7ef926dfd21f"
      },
      "execution_count": 27,
      "outputs": [
        {
          "output_type": "display_data",
          "data": {
            "text/plain": [
              "<IPython.core.display.Markdown object>"
            ],
            "text/markdown": "One of the most interesting milestones in space exploration over the last decade is the successful landing and operation of the Mars Perseverance Rover by NASA. Launched on July 30, 2020, and landing on Mars on February 18, 2021, Perseverance is exploring the Jezero Crater to search for signs of ancient microbial life. It is also collecting samples of Martian rock and soil for potential return to Earth via a future mission. The rover is equipped with a variety of scientific instruments, including the Ingenuity helicopter, which made history as the first powered, controlled flight on another planet. This mission marks significant advancements in technology and our understanding of the Martian environment."
          },
          "metadata": {}
        }
      ]
    }
  ]
}